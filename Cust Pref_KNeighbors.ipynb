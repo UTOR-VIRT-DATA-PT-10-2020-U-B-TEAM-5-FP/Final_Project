{
 "cells": [
  {
   "cell_type": "code",
   "execution_count": 1,
   "metadata": {},
   "outputs": [],
   "source": [
    "import pandas as pd\n",
    "from sklearn.model_selection import train_test_split\n",
    "from collections import Counter\n",
    "from sklearn.metrics import accuracy_score\n",
    "from sklearn.preprocessing import StandardScaler\n",
    "from sklearn.neighbors import KNeighborsClassifier"
   ]
  },
  {
   "cell_type": "code",
   "execution_count": 2,
   "metadata": {},
   "outputs": [],
   "source": [
    "cafe_data = pd.read_csv('./cafe_data.csv')\n"
   ]
  },
  {
   "cell_type": "code",
   "execution_count": 3,
   "metadata": {},
   "outputs": [],
   "source": [
    "cafe_data['Occur'] = cafe_data.groupby(['cust_id'])['store_ID'].transform('size')\n",
    "cafe_data.sort_values(by = ['Occur'],inplace=True)"
   ]
  },
  {
   "cell_type": "code",
   "execution_count": 12,
   "metadata": {},
   "outputs": [
    {
     "output_type": "execute_result",
     "data": {
      "text/plain": [
       "       cust_id  store_ID  cust_gender  cust_age  cust_income  cust_q1_taste  \\\n",
       "0         3923       501            1      26.0          NaN              4   \n",
       "32517     9561       540            1      53.0     134682.0              3   \n",
       "5157     15994       501            0      35.0      46158.0              5   \n",
       "32523    27363       540            0      36.0      60183.0              4   \n",
       "5155     31676       501            0      34.1      40728.0              2   \n",
       "\n",
       "       cust_q2_price  cust_q3_calories  month  day  ...  drink_calories  \\\n",
       "0                  4                 1      4    5  ...               5   \n",
       "32517              2                 1      1   19  ...               4   \n",
       "5157               3                 3      6   11  ...               0   \n",
       "32523              3                 1     12   12  ...               1   \n",
       "5155               5                 5      6   18  ...               5   \n",
       "\n",
       "       drink_price           food_type food_calories food_price total_spend  \\\n",
       "0             2.05   Grand Slam Cookie           280       2.00        4.05   \n",
       "32517         1.75                 NaN             0        NaN        1.75   \n",
       "5157           NaN   Grand Slam Cookie           280       2.00        2.00   \n",
       "32523         1.75  Breakfast Sandwich           351       3.95        5.70   \n",
       "5155          2.05     Blueberry Scone           270       2.05        4.10   \n",
       "\n",
       "       comp_med  comp_big comp_ind  Occur  \n",
       "0             1         0        1      1  \n",
       "32517         1         0        0      1  \n",
       "5157          1         0        1      1  \n",
       "32523         1         0        0      1  \n",
       "5155          1         0        1      1  \n",
       "\n",
       "[5 rows x 26 columns]"
      ],
      "text/html": "<div>\n<style scoped>\n    .dataframe tbody tr th:only-of-type {\n        vertical-align: middle;\n    }\n\n    .dataframe tbody tr th {\n        vertical-align: top;\n    }\n\n    .dataframe thead th {\n        text-align: right;\n    }\n</style>\n<table border=\"1\" class=\"dataframe\">\n  <thead>\n    <tr style=\"text-align: right;\">\n      <th></th>\n      <th>cust_id</th>\n      <th>store_ID</th>\n      <th>cust_gender</th>\n      <th>cust_age</th>\n      <th>cust_income</th>\n      <th>cust_q1_taste</th>\n      <th>cust_q2_price</th>\n      <th>cust_q3_calories</th>\n      <th>month</th>\n      <th>day</th>\n      <th>...</th>\n      <th>drink_calories</th>\n      <th>drink_price</th>\n      <th>food_type</th>\n      <th>food_calories</th>\n      <th>food_price</th>\n      <th>total_spend</th>\n      <th>comp_med</th>\n      <th>comp_big</th>\n      <th>comp_ind</th>\n      <th>Occur</th>\n    </tr>\n  </thead>\n  <tbody>\n    <tr>\n      <th>0</th>\n      <td>3923</td>\n      <td>501</td>\n      <td>1</td>\n      <td>26.0</td>\n      <td>NaN</td>\n      <td>4</td>\n      <td>4</td>\n      <td>1</td>\n      <td>4</td>\n      <td>5</td>\n      <td>...</td>\n      <td>5</td>\n      <td>2.05</td>\n      <td>Grand Slam Cookie</td>\n      <td>280</td>\n      <td>2.00</td>\n      <td>4.05</td>\n      <td>1</td>\n      <td>0</td>\n      <td>1</td>\n      <td>1</td>\n    </tr>\n    <tr>\n      <th>32517</th>\n      <td>9561</td>\n      <td>540</td>\n      <td>1</td>\n      <td>53.0</td>\n      <td>134682.0</td>\n      <td>3</td>\n      <td>2</td>\n      <td>1</td>\n      <td>1</td>\n      <td>19</td>\n      <td>...</td>\n      <td>4</td>\n      <td>1.75</td>\n      <td>NaN</td>\n      <td>0</td>\n      <td>NaN</td>\n      <td>1.75</td>\n      <td>1</td>\n      <td>0</td>\n      <td>0</td>\n      <td>1</td>\n    </tr>\n    <tr>\n      <th>5157</th>\n      <td>15994</td>\n      <td>501</td>\n      <td>0</td>\n      <td>35.0</td>\n      <td>46158.0</td>\n      <td>5</td>\n      <td>3</td>\n      <td>3</td>\n      <td>6</td>\n      <td>11</td>\n      <td>...</td>\n      <td>0</td>\n      <td>NaN</td>\n      <td>Grand Slam Cookie</td>\n      <td>280</td>\n      <td>2.00</td>\n      <td>2.00</td>\n      <td>1</td>\n      <td>0</td>\n      <td>1</td>\n      <td>1</td>\n    </tr>\n    <tr>\n      <th>32523</th>\n      <td>27363</td>\n      <td>540</td>\n      <td>0</td>\n      <td>36.0</td>\n      <td>60183.0</td>\n      <td>4</td>\n      <td>3</td>\n      <td>1</td>\n      <td>12</td>\n      <td>12</td>\n      <td>...</td>\n      <td>1</td>\n      <td>1.75</td>\n      <td>Breakfast Sandwich</td>\n      <td>351</td>\n      <td>3.95</td>\n      <td>5.70</td>\n      <td>1</td>\n      <td>0</td>\n      <td>0</td>\n      <td>1</td>\n    </tr>\n    <tr>\n      <th>5155</th>\n      <td>31676</td>\n      <td>501</td>\n      <td>0</td>\n      <td>34.1</td>\n      <td>40728.0</td>\n      <td>2</td>\n      <td>5</td>\n      <td>5</td>\n      <td>6</td>\n      <td>18</td>\n      <td>...</td>\n      <td>5</td>\n      <td>2.05</td>\n      <td>Blueberry Scone</td>\n      <td>270</td>\n      <td>2.05</td>\n      <td>4.10</td>\n      <td>1</td>\n      <td>0</td>\n      <td>1</td>\n      <td>1</td>\n    </tr>\n  </tbody>\n</table>\n<p>5 rows × 26 columns</p>\n</div>"
     },
     "metadata": {},
     "execution_count": 12
    }
   ],
   "source": [
    "cafe_data.head()"
   ]
  },
  {
   "cell_type": "code",
   "execution_count": 4,
   "metadata": {},
   "outputs": [],
   "source": [
    "cust_pref_df = cafe_data[['cust_id','cust_gender', 'cust_age', 'cust_income',\n",
    "       'cust_q1_taste', 'cust_q2_price', 'cust_q3_calories','Occur']].copy()\n",
    "cust_pref_df.dropna(inplace=True)"
   ]
  },
  {
   "cell_type": "code",
   "execution_count": 5,
   "metadata": {},
   "outputs": [],
   "source": [
    "cust_pref_df.drop_duplicates(inplace=True)"
   ]
  },
  {
   "cell_type": "code",
   "execution_count": 7,
   "metadata": {},
   "outputs": [
    {
     "output_type": "execute_result",
     "data": {
      "text/plain": [
       "(54741, 26)"
      ]
     },
     "metadata": {},
     "execution_count": 7
    }
   ],
   "source": [
    "cafe_data.shape"
   ]
  },
  {
   "cell_type": "code",
   "execution_count": 16,
   "metadata": {},
   "outputs": [
    {
     "output_type": "execute_result",
     "data": {
      "text/plain": [
       "Index(['cust_id', 'store_ID', 'cust_gender', 'cust_age', 'cust_income',\n",
       "       'cust_q1_taste', 'cust_q2_price', 'cust_q3_calories', 'month', 'day',\n",
       "       'transaction', 'food', 'drink', 'drink_type', 'drink_size',\n",
       "       'drink_milk', 'drink_calories', 'drink_price', 'food_type',\n",
       "       'food_calories', 'food_price', 'total_spend', 'comp_med', 'comp_big',\n",
       "       'comp_ind', 'Occur'],\n",
       "      dtype='object')"
      ]
     },
     "metadata": {},
     "execution_count": 16
    }
   ],
   "source": [
    "new_df = cafe_data.loc[cafe_data['Occur']>1]\n",
    "new_df.columns"
   ]
  },
  {
   "cell_type": "code",
   "execution_count": 17,
   "metadata": {},
   "outputs": [
    {
     "output_type": "stream",
     "name": "stderr",
     "text": [
      "C:\\Users\\Sami_\\anaconda3\\envs\\PythonData\\lib\\site-packages\\pandas\\core\\frame.py:4170: SettingWithCopyWarning: \nA value is trying to be set on a copy of a slice from a DataFrame\n\nSee the caveats in the documentation: https://pandas.pydata.org/pandas-docs/stable/user_guide/indexing.html#returning-a-view-versus-a-copy\n  errors=errors,\n"
     ]
    }
   ],
   "source": [
    "new_df.drop(columns = ['store_ID', 'cust_gender', 'cust_age', 'cust_income',\n",
    "       'month', 'day',\n",
    "       'transaction', 'food', 'drink', 'drink_type', 'drink_size',\n",
    "       'drink_milk', 'drink_calories', 'drink_price', 'food_type',\n",
    "       'food_calories', 'food_price', 'total_spend', 'comp_med', 'comp_big',\n",
    "       'comp_ind'], axis=1, inplace = True)"
   ]
  },
  {
   "cell_type": "code",
   "execution_count": 37,
   "metadata": {},
   "outputs": [
    {
     "output_type": "execute_result",
     "data": {
      "text/plain": [
       "       cust_id  cust_q1_taste  cust_q2_price  cust_q3_calories  Occur\n",
       "9237        53              4              4                 4      6\n",
       "11530       53              4              4                 4      6\n",
       "9511        53              4              4                 4      6\n",
       "9984        53              4              4                 4      6\n",
       "8233        53              4              4                 4      6\n",
       "...        ...            ...            ...               ...    ...\n",
       "46153    35594              3              5                 1      6\n",
       "47238    35594              3              5                 1      6\n",
       "43132    35594              3              5                 1      6\n",
       "45241    35594              3              5                 1      6\n",
       "47175    35594              3              5                 1      6\n",
       "\n",
       "[5946 rows x 5 columns]"
      ],
      "text/html": "<div>\n<style scoped>\n    .dataframe tbody tr th:only-of-type {\n        vertical-align: middle;\n    }\n\n    .dataframe tbody tr th {\n        vertical-align: top;\n    }\n\n    .dataframe thead th {\n        text-align: right;\n    }\n</style>\n<table border=\"1\" class=\"dataframe\">\n  <thead>\n    <tr style=\"text-align: right;\">\n      <th></th>\n      <th>cust_id</th>\n      <th>cust_q1_taste</th>\n      <th>cust_q2_price</th>\n      <th>cust_q3_calories</th>\n      <th>Occur</th>\n    </tr>\n  </thead>\n  <tbody>\n    <tr>\n      <th>9237</th>\n      <td>53</td>\n      <td>4</td>\n      <td>4</td>\n      <td>4</td>\n      <td>6</td>\n    </tr>\n    <tr>\n      <th>11530</th>\n      <td>53</td>\n      <td>4</td>\n      <td>4</td>\n      <td>4</td>\n      <td>6</td>\n    </tr>\n    <tr>\n      <th>9511</th>\n      <td>53</td>\n      <td>4</td>\n      <td>4</td>\n      <td>4</td>\n      <td>6</td>\n    </tr>\n    <tr>\n      <th>9984</th>\n      <td>53</td>\n      <td>4</td>\n      <td>4</td>\n      <td>4</td>\n      <td>6</td>\n    </tr>\n    <tr>\n      <th>8233</th>\n      <td>53</td>\n      <td>4</td>\n      <td>4</td>\n      <td>4</td>\n      <td>6</td>\n    </tr>\n    <tr>\n      <th>...</th>\n      <td>...</td>\n      <td>...</td>\n      <td>...</td>\n      <td>...</td>\n      <td>...</td>\n    </tr>\n    <tr>\n      <th>46153</th>\n      <td>35594</td>\n      <td>3</td>\n      <td>5</td>\n      <td>1</td>\n      <td>6</td>\n    </tr>\n    <tr>\n      <th>47238</th>\n      <td>35594</td>\n      <td>3</td>\n      <td>5</td>\n      <td>1</td>\n      <td>6</td>\n    </tr>\n    <tr>\n      <th>43132</th>\n      <td>35594</td>\n      <td>3</td>\n      <td>5</td>\n      <td>1</td>\n      <td>6</td>\n    </tr>\n    <tr>\n      <th>45241</th>\n      <td>35594</td>\n      <td>3</td>\n      <td>5</td>\n      <td>1</td>\n      <td>6</td>\n    </tr>\n    <tr>\n      <th>47175</th>\n      <td>35594</td>\n      <td>3</td>\n      <td>5</td>\n      <td>1</td>\n      <td>6</td>\n    </tr>\n  </tbody>\n</table>\n<p>5946 rows × 5 columns</p>\n</div>"
     },
     "metadata": {},
     "execution_count": 37
    }
   ],
   "source": [
    "new_new_df = new_df.loc[new_df['Occur'] ==6].sort_values('cust_id')\n",
    "new_new_df"
   ]
  },
  {
   "cell_type": "markdown",
   "metadata": {},
   "source": [
    "## TASTE"
   ]
  },
  {
   "cell_type": "code",
   "execution_count": 6,
   "metadata": {},
   "outputs": [],
   "source": [
    "X = cust_pref_df[['cust_gender', 'cust_age', 'cust_income']].copy()\n",
    "y = cust_pref_df.cust_q1_taste.values"
   ]
  },
  {
   "cell_type": "code",
   "execution_count": 7,
   "metadata": {},
   "outputs": [],
   "source": [
    "X_train, X_test, y_train, y_test = train_test_split(X,y, random_state=99,stratify=y,test_size=0.2)"
   ]
  },
  {
   "cell_type": "code",
   "execution_count": 8,
   "metadata": {},
   "outputs": [],
   "source": [
    "scaler = StandardScaler()\n",
    "scaler.fit(X_train)\n",
    "X_test_scaled = scaler.transform(X_test)\n",
    "X_train_scaled = scaler.transform(X_train)"
   ]
  },
  {
   "cell_type": "code",
   "execution_count": 9,
   "metadata": {},
   "outputs": [],
   "source": [
    "#Kneighbor classifier\n",
    "model = KNeighborsClassifier(n_neighbors=5)"
   ]
  },
  {
   "cell_type": "code",
   "execution_count": 10,
   "metadata": {},
   "outputs": [
    {
     "output_type": "execute_result",
     "data": {
      "text/plain": [
       "KNeighborsClassifier()"
      ]
     },
     "metadata": {},
     "execution_count": 10
    }
   ],
   "source": [
    "model.fit(X_train_scaled,y_train )"
   ]
  },
  {
   "cell_type": "code",
   "execution_count": 11,
   "metadata": {},
   "outputs": [],
   "source": [
    "predic = model.predict(X_test_scaled)"
   ]
  },
  {
   "cell_type": "code",
   "execution_count": 12,
   "metadata": {},
   "outputs": [
    {
     "output_type": "execute_result",
     "data": {
      "text/plain": [
       "0.2586683031604787"
      ]
     },
     "metadata": {},
     "execution_count": 12
    }
   ],
   "source": [
    "accuracy_score(y_test,predic)"
   ]
  },
  {
   "cell_type": "markdown",
   "metadata": {},
   "source": [
    "## PRICE"
   ]
  },
  {
   "cell_type": "code",
   "execution_count": 13,
   "metadata": {},
   "outputs": [],
   "source": [
    "X = cust_pref_df[['cust_gender', 'cust_age', 'cust_income']].copy()\n",
    "y = cust_pref_df.cust_q2_price.values"
   ]
  },
  {
   "cell_type": "code",
   "execution_count": 14,
   "metadata": {},
   "outputs": [],
   "source": [
    "X_train, X_test, y_train, y_test = train_test_split(X,y, random_state=99,stratify=y,test_size=0.2)"
   ]
  },
  {
   "cell_type": "code",
   "execution_count": 15,
   "metadata": {},
   "outputs": [],
   "source": [
    "scaler = StandardScaler()\n",
    "scaler.fit(X_train)\n",
    "X_test_scaled = scaler.transform(X_test)\n",
    "X_train_scaled = scaler.transform(X_train)"
   ]
  },
  {
   "cell_type": "code",
   "execution_count": 16,
   "metadata": {},
   "outputs": [],
   "source": [
    "#Kneighbor classifier\n",
    "model = KNeighborsClassifier(n_neighbors=5)"
   ]
  },
  {
   "cell_type": "code",
   "execution_count": 17,
   "metadata": {},
   "outputs": [
    {
     "output_type": "execute_result",
     "data": {
      "text/plain": [
       "KNeighborsClassifier()"
      ]
     },
     "metadata": {},
     "execution_count": 17
    }
   ],
   "source": [
    "model.fit(X_train_scaled,y_train )"
   ]
  },
  {
   "cell_type": "code",
   "execution_count": 18,
   "metadata": {},
   "outputs": [],
   "source": [
    "predict = model.predict(X_test_scaled)"
   ]
  },
  {
   "cell_type": "code",
   "execution_count": 19,
   "metadata": {},
   "outputs": [
    {
     "output_type": "execute_result",
     "data": {
      "text/plain": [
       "0.37925744093280145"
      ]
     },
     "metadata": {},
     "execution_count": 19
    }
   ],
   "source": [
    "accuracy_score(y_test,predict)"
   ]
  },
  {
   "cell_type": "markdown",
   "metadata": {},
   "source": [
    "## CALORIES"
   ]
  },
  {
   "cell_type": "code",
   "execution_count": 20,
   "metadata": {},
   "outputs": [],
   "source": [
    "X = cust_pref_df[['cust_gender', 'cust_age', 'cust_income']].copy()\n",
    "y = cust_pref_df.cust_q3_calories.values"
   ]
  },
  {
   "cell_type": "code",
   "execution_count": 21,
   "metadata": {},
   "outputs": [],
   "source": [
    "X_train, X_test, y_train, y_test = train_test_split(X,y, random_state=99,stratify=y,test_size=0.2)"
   ]
  },
  {
   "cell_type": "code",
   "execution_count": 22,
   "metadata": {},
   "outputs": [],
   "source": [
    "scaler = StandardScaler()\n",
    "scaler.fit(X_train)\n",
    "X_test_scaled = scaler.transform(X_test)\n",
    "X_train_scaled = scaler.transform(X_train)"
   ]
  },
  {
   "cell_type": "code",
   "execution_count": 23,
   "metadata": {},
   "outputs": [],
   "source": [
    "#Kneighbor classifier\n",
    "model = KNeighborsClassifier(n_neighbors=5)"
   ]
  },
  {
   "cell_type": "code",
   "execution_count": 24,
   "metadata": {},
   "outputs": [
    {
     "output_type": "execute_result",
     "data": {
      "text/plain": [
       "KNeighborsClassifier()"
      ]
     },
     "metadata": {},
     "execution_count": 24
    }
   ],
   "source": [
    "model.fit(X_train_scaled,y_train )"
   ]
  },
  {
   "cell_type": "code",
   "execution_count": 25,
   "metadata": {},
   "outputs": [],
   "source": [
    "predict = model.predict(X_test_scaled)"
   ]
  },
  {
   "cell_type": "code",
   "execution_count": 26,
   "metadata": {},
   "outputs": [
    {
     "output_type": "execute_result",
     "data": {
      "text/plain": [
       "0.49923289352562134"
      ]
     },
     "metadata": {},
     "execution_count": 26
    }
   ],
   "source": [
    "accuracy_score(y_test,predict)"
   ]
  },
  {
   "cell_type": "code",
   "execution_count": null,
   "metadata": {},
   "outputs": [],
   "source": []
  }
 ],
 "metadata": {
  "kernelspec": {
   "display_name": "PythonData",
   "language": "python",
   "name": "pythondata"
  },
  "language_info": {
   "codemirror_mode": {
    "name": "ipython",
    "version": 3
   },
   "file_extension": ".py",
   "mimetype": "text/x-python",
   "name": "python",
   "nbconvert_exporter": "python",
   "pygments_lexer": "ipython3",
   "version": "3.7.9-final"
  }
 },
 "nbformat": 4,
 "nbformat_minor": 4
}