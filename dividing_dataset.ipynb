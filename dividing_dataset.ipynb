{
 "metadata": {
  "language_info": {
   "codemirror_mode": {
    "name": "ipython",
    "version": 3
   },
   "file_extension": ".py",
   "mimetype": "text/x-python",
   "name": "python",
   "nbconvert_exporter": "python",
   "pygments_lexer": "ipython3",
   "version": "3.7.7-final"
  },
  "orig_nbformat": 2,
  "kernelspec": {
   "name": "pythondata",
   "display_name": "PythonData",
   "language": "python"
  }
 },
 "nbformat": 4,
 "nbformat_minor": 2,
 "cells": [
  {
   "cell_type": "code",
   "execution_count": 1,
   "metadata": {},
   "outputs": [],
   "source": [
    "import pandas as pd"
   ]
  },
  {
   "cell_type": "code",
   "execution_count": 2,
   "metadata": {},
   "outputs": [
    {
     "output_type": "execute_result",
     "data": {
      "text/plain": [
       "   Id  Age  Gender  Sector  Working_same_sector  Specialization  Work_hours  \\\n",
       "0   1    2       1       2                    2               6           3   \n",
       "1   2    2       1       2                    2               6           3   \n",
       "2   3    2       1       2                    2               6           3   \n",
       "3   4    2       1       2                    2               6           3   \n",
       "4   5    2       1       2                    2               6           3   \n",
       "\n",
       "   Work_years_span  Patient_per_day  Overtime_work_interest  ...  \\\n",
       "0                1                1                       1  ...   \n",
       "1                1                1                       1  ...   \n",
       "2                1                1                       1  ...   \n",
       "3                1                1                       1  ...   \n",
       "4                1                1                       1  ...   \n",
       "\n",
       "   Stress_due_to_too_many_duties  Stress_due_to_age  Stress_reason_family  \\\n",
       "0                              1                  1                     2   \n",
       "1                              1                  1                     2   \n",
       "2                              1                  1                     2   \n",
       "3                              1                  1                     2   \n",
       "4                              1                  1                     2   \n",
       "\n",
       "   Stress_due_to_competition  Prefer_to_stay_alone  \\\n",
       "0                          1                     1   \n",
       "1                          1                     1   \n",
       "2                          1                     1   \n",
       "3                          1                     1   \n",
       "4                          1                     1   \n",
       "\n",
       "   Prefer_taking_responsibilities  Alcohol_usage  Stress_nervous_habits  \\\n",
       "0                               1              1                      1   \n",
       "1                               1              1                      1   \n",
       "2                               1              1                      1   \n",
       "3                               1              1                      1   \n",
       "4                               1              1                      1   \n",
       "\n",
       "   Stress_makes_nervous  Stress_affects_emotions  \n",
       "0                     1                        2  \n",
       "1                     1                        2  \n",
       "2                     1                        2  \n",
       "3                     1                        2  \n",
       "4                     1                        2  \n",
       "\n",
       "[5 rows x 31 columns]"
      ],
      "text/html": "<div>\n<style scoped>\n    .dataframe tbody tr th:only-of-type {\n        vertical-align: middle;\n    }\n\n    .dataframe tbody tr th {\n        vertical-align: top;\n    }\n\n    .dataframe thead th {\n        text-align: right;\n    }\n</style>\n<table border=\"1\" class=\"dataframe\">\n  <thead>\n    <tr style=\"text-align: right;\">\n      <th></th>\n      <th>Id</th>\n      <th>Age</th>\n      <th>Gender</th>\n      <th>Sector</th>\n      <th>Working_same_sector</th>\n      <th>Specialization</th>\n      <th>Work_hours</th>\n      <th>Work_years_span</th>\n      <th>Patient_per_day</th>\n      <th>Overtime_work_interest</th>\n      <th>...</th>\n      <th>Stress_due_to_too_many_duties</th>\n      <th>Stress_due_to_age</th>\n      <th>Stress_reason_family</th>\n      <th>Stress_due_to_competition</th>\n      <th>Prefer_to_stay_alone</th>\n      <th>Prefer_taking_responsibilities</th>\n      <th>Alcohol_usage</th>\n      <th>Stress_nervous_habits</th>\n      <th>Stress_makes_nervous</th>\n      <th>Stress_affects_emotions</th>\n    </tr>\n  </thead>\n  <tbody>\n    <tr>\n      <th>0</th>\n      <td>1</td>\n      <td>2</td>\n      <td>1</td>\n      <td>2</td>\n      <td>2</td>\n      <td>6</td>\n      <td>3</td>\n      <td>1</td>\n      <td>1</td>\n      <td>1</td>\n      <td>...</td>\n      <td>1</td>\n      <td>1</td>\n      <td>2</td>\n      <td>1</td>\n      <td>1</td>\n      <td>1</td>\n      <td>1</td>\n      <td>1</td>\n      <td>1</td>\n      <td>2</td>\n    </tr>\n    <tr>\n      <th>1</th>\n      <td>2</td>\n      <td>2</td>\n      <td>1</td>\n      <td>2</td>\n      <td>2</td>\n      <td>6</td>\n      <td>3</td>\n      <td>1</td>\n      <td>1</td>\n      <td>1</td>\n      <td>...</td>\n      <td>1</td>\n      <td>1</td>\n      <td>2</td>\n      <td>1</td>\n      <td>1</td>\n      <td>1</td>\n      <td>1</td>\n      <td>1</td>\n      <td>1</td>\n      <td>2</td>\n    </tr>\n    <tr>\n      <th>2</th>\n      <td>3</td>\n      <td>2</td>\n      <td>1</td>\n      <td>2</td>\n      <td>2</td>\n      <td>6</td>\n      <td>3</td>\n      <td>1</td>\n      <td>1</td>\n      <td>1</td>\n      <td>...</td>\n      <td>1</td>\n      <td>1</td>\n      <td>2</td>\n      <td>1</td>\n      <td>1</td>\n      <td>1</td>\n      <td>1</td>\n      <td>1</td>\n      <td>1</td>\n      <td>2</td>\n    </tr>\n    <tr>\n      <th>3</th>\n      <td>4</td>\n      <td>2</td>\n      <td>1</td>\n      <td>2</td>\n      <td>2</td>\n      <td>6</td>\n      <td>3</td>\n      <td>1</td>\n      <td>1</td>\n      <td>1</td>\n      <td>...</td>\n      <td>1</td>\n      <td>1</td>\n      <td>2</td>\n      <td>1</td>\n      <td>1</td>\n      <td>1</td>\n      <td>1</td>\n      <td>1</td>\n      <td>1</td>\n      <td>2</td>\n    </tr>\n    <tr>\n      <th>4</th>\n      <td>5</td>\n      <td>2</td>\n      <td>1</td>\n      <td>2</td>\n      <td>2</td>\n      <td>6</td>\n      <td>3</td>\n      <td>1</td>\n      <td>1</td>\n      <td>1</td>\n      <td>...</td>\n      <td>1</td>\n      <td>1</td>\n      <td>2</td>\n      <td>1</td>\n      <td>1</td>\n      <td>1</td>\n      <td>1</td>\n      <td>1</td>\n      <td>1</td>\n      <td>2</td>\n    </tr>\n  </tbody>\n</table>\n<p>5 rows × 31 columns</p>\n</div>"
     },
     "metadata": {},
     "execution_count": 2
    }
   ],
   "source": [
    "df = pd.read_csv('data 2.csv')\n",
    "df.head()"
   ]
  },
  {
   "cell_type": "code",
   "execution_count": 15,
   "metadata": {},
   "outputs": [
    {
     "output_type": "execute_result",
     "data": {
      "text/plain": [
       "           Id  Age  Gender  Sector  Working_same_sector  Specialization  \\\n",
       "0           1    2       1       2                    2               6   \n",
       "1           2    2       1       2                    2               6   \n",
       "2           3    2       1       2                    2               6   \n",
       "3           4    2       1       2                    2               6   \n",
       "4           5    2       1       2                    2               6   \n",
       "...       ...  ...     ...     ...                  ...             ...   \n",
       "99995   99996    1       2       1                    2               6   \n",
       "99996   99997    1       2       1                    2               6   \n",
       "99997   99998    1       2       1                    2               6   \n",
       "99998   99999    1       2       1                    2               6   \n",
       "99999  100000    1       2       1                    2               6   \n",
       "\n",
       "       Work_hours  Work_years_span  Patient_per_day  Overtime_work_interest  \\\n",
       "0               3                1                1                       1   \n",
       "1               3                1                1                       1   \n",
       "2               3                1                1                       1   \n",
       "3               3                1                1                       1   \n",
       "4               3                1                1                       1   \n",
       "...           ...              ...              ...                     ...   \n",
       "99995           2                2                3                       2   \n",
       "99996           2                2                3                       2   \n",
       "99997           2                2                3                       2   \n",
       "99998           2                2                3                       2   \n",
       "99999           2                2                3                       2   \n",
       "\n",
       "       Overtime_work_paid  \n",
       "0                       1  \n",
       "1                       1  \n",
       "2                       1  \n",
       "3                       1  \n",
       "4                       1  \n",
       "...                   ...  \n",
       "99995                   2  \n",
       "99996                   2  \n",
       "99997                   2  \n",
       "99998                   2  \n",
       "99999                   2  \n",
       "\n",
       "[100000 rows x 11 columns]"
      ],
      "text/html": "<div>\n<style scoped>\n    .dataframe tbody tr th:only-of-type {\n        vertical-align: middle;\n    }\n\n    .dataframe tbody tr th {\n        vertical-align: top;\n    }\n\n    .dataframe thead th {\n        text-align: right;\n    }\n</style>\n<table border=\"1\" class=\"dataframe\">\n  <thead>\n    <tr style=\"text-align: right;\">\n      <th></th>\n      <th>Id</th>\n      <th>Age</th>\n      <th>Gender</th>\n      <th>Sector</th>\n      <th>Working_same_sector</th>\n      <th>Specialization</th>\n      <th>Work_hours</th>\n      <th>Work_years_span</th>\n      <th>Patient_per_day</th>\n      <th>Overtime_work_interest</th>\n      <th>Overtime_work_paid</th>\n    </tr>\n  </thead>\n  <tbody>\n    <tr>\n      <th>0</th>\n      <td>1</td>\n      <td>2</td>\n      <td>1</td>\n      <td>2</td>\n      <td>2</td>\n      <td>6</td>\n      <td>3</td>\n      <td>1</td>\n      <td>1</td>\n      <td>1</td>\n      <td>1</td>\n    </tr>\n    <tr>\n      <th>1</th>\n      <td>2</td>\n      <td>2</td>\n      <td>1</td>\n      <td>2</td>\n      <td>2</td>\n      <td>6</td>\n      <td>3</td>\n      <td>1</td>\n      <td>1</td>\n      <td>1</td>\n      <td>1</td>\n    </tr>\n    <tr>\n      <th>2</th>\n      <td>3</td>\n      <td>2</td>\n      <td>1</td>\n      <td>2</td>\n      <td>2</td>\n      <td>6</td>\n      <td>3</td>\n      <td>1</td>\n      <td>1</td>\n      <td>1</td>\n      <td>1</td>\n    </tr>\n    <tr>\n      <th>3</th>\n      <td>4</td>\n      <td>2</td>\n      <td>1</td>\n      <td>2</td>\n      <td>2</td>\n      <td>6</td>\n      <td>3</td>\n      <td>1</td>\n      <td>1</td>\n      <td>1</td>\n      <td>1</td>\n    </tr>\n    <tr>\n      <th>4</th>\n      <td>5</td>\n      <td>2</td>\n      <td>1</td>\n      <td>2</td>\n      <td>2</td>\n      <td>6</td>\n      <td>3</td>\n      <td>1</td>\n      <td>1</td>\n      <td>1</td>\n      <td>1</td>\n    </tr>\n    <tr>\n      <th>...</th>\n      <td>...</td>\n      <td>...</td>\n      <td>...</td>\n      <td>...</td>\n      <td>...</td>\n      <td>...</td>\n      <td>...</td>\n      <td>...</td>\n      <td>...</td>\n      <td>...</td>\n      <td>...</td>\n    </tr>\n    <tr>\n      <th>99995</th>\n      <td>99996</td>\n      <td>1</td>\n      <td>2</td>\n      <td>1</td>\n      <td>2</td>\n      <td>6</td>\n      <td>2</td>\n      <td>2</td>\n      <td>3</td>\n      <td>2</td>\n      <td>2</td>\n    </tr>\n    <tr>\n      <th>99996</th>\n      <td>99997</td>\n      <td>1</td>\n      <td>2</td>\n      <td>1</td>\n      <td>2</td>\n      <td>6</td>\n      <td>2</td>\n      <td>2</td>\n      <td>3</td>\n      <td>2</td>\n      <td>2</td>\n    </tr>\n    <tr>\n      <th>99997</th>\n      <td>99998</td>\n      <td>1</td>\n      <td>2</td>\n      <td>1</td>\n      <td>2</td>\n      <td>6</td>\n      <td>2</td>\n      <td>2</td>\n      <td>3</td>\n      <td>2</td>\n      <td>2</td>\n    </tr>\n    <tr>\n      <th>99998</th>\n      <td>99999</td>\n      <td>1</td>\n      <td>2</td>\n      <td>1</td>\n      <td>2</td>\n      <td>6</td>\n      <td>2</td>\n      <td>2</td>\n      <td>3</td>\n      <td>2</td>\n      <td>2</td>\n    </tr>\n    <tr>\n      <th>99999</th>\n      <td>100000</td>\n      <td>1</td>\n      <td>2</td>\n      <td>1</td>\n      <td>2</td>\n      <td>6</td>\n      <td>2</td>\n      <td>2</td>\n      <td>3</td>\n      <td>2</td>\n      <td>2</td>\n    </tr>\n  </tbody>\n</table>\n<p>100000 rows × 11 columns</p>\n</div>"
     },
     "metadata": {},
     "execution_count": 15
    }
   ],
   "source": [
    "partitioners_info_df = df.iloc[:, 0:11]\n",
    "partitioners_info_df"
   ]
  },
  {
   "cell_type": "code",
   "execution_count": 8,
   "metadata": {},
   "outputs": [
    {
     "output_type": "execute_result",
     "data": {
      "text/plain": [
       "['Id',\n",
       " 'Age',\n",
       " 'Gender',\n",
       " 'Sector',\n",
       " 'Working_same_sector',\n",
       " 'Specialization',\n",
       " 'Work_hours',\n",
       " 'Work_years_span',\n",
       " 'Patient_per_day',\n",
       " 'Overtime_work_interest',\n",
       " 'Overtime_work_paid']"
      ]
     },
     "metadata": {},
     "execution_count": 8
    }
   ],
   "source": [
    "partitioners_info_df.columns.to_list()"
   ]
  },
  {
   "cell_type": "code",
   "execution_count": 13,
   "metadata": {},
   "outputs": [
    {
     "output_type": "execute_result",
     "data": {
      "text/plain": [
       "           Id  Stressed_during_work  Feeling_on_job  Source_of_stress  \\\n",
       "0           1                     1               2               3.0   \n",
       "1           2                     1               2               3.0   \n",
       "2           3                     1               2               3.0   \n",
       "3           4                     1               2               3.0   \n",
       "4           5                     1               2               3.0   \n",
       "...       ...                   ...             ...               ...   \n",
       "99995   99996                     2               2               3.0   \n",
       "99996   99997                     2               2               3.0   \n",
       "99997   99998                     2               2               3.0   \n",
       "99998   99999                     2               2               3.0   \n",
       "99999  100000                     2               2               3.0   \n",
       "\n",
       "       Handling_stress  Inform_Management_problems  \\\n",
       "0                    2                           1   \n",
       "1                    2                           1   \n",
       "2                    2                           1   \n",
       "3                    2                           1   \n",
       "4                    2                           1   \n",
       "...                ...                         ...   \n",
       "99995                3                           1   \n",
       "99996                3                           1   \n",
       "99997                3                           1   \n",
       "99998                3                           1   \n",
       "99999                3                           1   \n",
       "\n",
       "       Management_initiative_to_problems  Hospital_care_towards_stress  \\\n",
       "0                                      2                             2   \n",
       "1                                      2                             2   \n",
       "2                                      2                             2   \n",
       "3                                      2                             2   \n",
       "4                                      2                             2   \n",
       "...                                  ...                           ...   \n",
       "99995                                  1                             2   \n",
       "99996                                  1                             2   \n",
       "99997                                  1                             2   \n",
       "99998                                  1                             2   \n",
       "99999                                  1                             2   \n",
       "\n",
       "       Stress_affecting_patient_care  Stress_affecting_concentration  ...  \\\n",
       "0                                  2                               2  ...   \n",
       "1                                  2                               2  ...   \n",
       "2                                  2                               2  ...   \n",
       "3                                  2                               2  ...   \n",
       "4                                  2                               2  ...   \n",
       "...                              ...                             ...  ...   \n",
       "99995                              1                               1  ...   \n",
       "99996                              1                               1  ...   \n",
       "99997                              1                               1  ...   \n",
       "99998                              1                               1  ...   \n",
       "99999                              1                               1  ...   \n",
       "\n",
       "       Stress_due_to_too_many_duties  Stress_due_to_age  Stress_reason_family  \\\n",
       "0                                  1                  1                     2   \n",
       "1                                  1                  1                     2   \n",
       "2                                  1                  1                     2   \n",
       "3                                  1                  1                     2   \n",
       "4                                  1                  1                     2   \n",
       "...                              ...                ...                   ...   \n",
       "99995                              1                  1                     2   \n",
       "99996                              1                  1                     2   \n",
       "99997                              1                  1                     2   \n",
       "99998                              1                  1                     2   \n",
       "99999                              1                  1                     2   \n",
       "\n",
       "       Stress_due_to_competition  Prefer_to_stay_alone  \\\n",
       "0                              1                     1   \n",
       "1                              1                     1   \n",
       "2                              1                     1   \n",
       "3                              1                     1   \n",
       "4                              1                     1   \n",
       "...                          ...                   ...   \n",
       "99995                          2                     1   \n",
       "99996                          2                     1   \n",
       "99997                          2                     1   \n",
       "99998                          2                     1   \n",
       "99999                          2                     1   \n",
       "\n",
       "       Prefer_taking_responsibilities  Alcohol_usage  Stress_nervous_habits  \\\n",
       "0                                   1              1                      1   \n",
       "1                                   1              1                      1   \n",
       "2                                   1              1                      1   \n",
       "3                                   1              1                      1   \n",
       "4                                   1              1                      1   \n",
       "...                               ...            ...                    ...   \n",
       "99995                               1              4                      4   \n",
       "99996                               1              4                      4   \n",
       "99997                               1              4                      4   \n",
       "99998                               1              4                      4   \n",
       "99999                               1              4                      4   \n",
       "\n",
       "       Stress_makes_nervous  Stress_affects_emotions  \n",
       "0                         1                        2  \n",
       "1                         1                        2  \n",
       "2                         1                        2  \n",
       "3                         1                        2  \n",
       "4                         1                        2  \n",
       "...                     ...                      ...  \n",
       "99995                     1                        1  \n",
       "99996                     1                        1  \n",
       "99997                     1                        1  \n",
       "99998                     1                        1  \n",
       "99999                     1                        1  \n",
       "\n",
       "[100000 rows x 21 columns]"
      ],
      "text/html": "<div>\n<style scoped>\n    .dataframe tbody tr th:only-of-type {\n        vertical-align: middle;\n    }\n\n    .dataframe tbody tr th {\n        vertical-align: top;\n    }\n\n    .dataframe thead th {\n        text-align: right;\n    }\n</style>\n<table border=\"1\" class=\"dataframe\">\n  <thead>\n    <tr style=\"text-align: right;\">\n      <th></th>\n      <th>Id</th>\n      <th>Stressed_during_work</th>\n      <th>Feeling_on_job</th>\n      <th>Source_of_stress</th>\n      <th>Handling_stress</th>\n      <th>Inform_Management_problems</th>\n      <th>Management_initiative_to_problems</th>\n      <th>Hospital_care_towards_stress</th>\n      <th>Stress_affecting_patient_care</th>\n      <th>Stress_affecting_concentration</th>\n      <th>...</th>\n      <th>Stress_due_to_too_many_duties</th>\n      <th>Stress_due_to_age</th>\n      <th>Stress_reason_family</th>\n      <th>Stress_due_to_competition</th>\n      <th>Prefer_to_stay_alone</th>\n      <th>Prefer_taking_responsibilities</th>\n      <th>Alcohol_usage</th>\n      <th>Stress_nervous_habits</th>\n      <th>Stress_makes_nervous</th>\n      <th>Stress_affects_emotions</th>\n    </tr>\n  </thead>\n  <tbody>\n    <tr>\n      <th>0</th>\n      <td>1</td>\n      <td>1</td>\n      <td>2</td>\n      <td>3.0</td>\n      <td>2</td>\n      <td>1</td>\n      <td>2</td>\n      <td>2</td>\n      <td>2</td>\n      <td>2</td>\n      <td>...</td>\n      <td>1</td>\n      <td>1</td>\n      <td>2</td>\n      <td>1</td>\n      <td>1</td>\n      <td>1</td>\n      <td>1</td>\n      <td>1</td>\n      <td>1</td>\n      <td>2</td>\n    </tr>\n    <tr>\n      <th>1</th>\n      <td>2</td>\n      <td>1</td>\n      <td>2</td>\n      <td>3.0</td>\n      <td>2</td>\n      <td>1</td>\n      <td>2</td>\n      <td>2</td>\n      <td>2</td>\n      <td>2</td>\n      <td>...</td>\n      <td>1</td>\n      <td>1</td>\n      <td>2</td>\n      <td>1</td>\n      <td>1</td>\n      <td>1</td>\n      <td>1</td>\n      <td>1</td>\n      <td>1</td>\n      <td>2</td>\n    </tr>\n    <tr>\n      <th>2</th>\n      <td>3</td>\n      <td>1</td>\n      <td>2</td>\n      <td>3.0</td>\n      <td>2</td>\n      <td>1</td>\n      <td>2</td>\n      <td>2</td>\n      <td>2</td>\n      <td>2</td>\n      <td>...</td>\n      <td>1</td>\n      <td>1</td>\n      <td>2</td>\n      <td>1</td>\n      <td>1</td>\n      <td>1</td>\n      <td>1</td>\n      <td>1</td>\n      <td>1</td>\n      <td>2</td>\n    </tr>\n    <tr>\n      <th>3</th>\n      <td>4</td>\n      <td>1</td>\n      <td>2</td>\n      <td>3.0</td>\n      <td>2</td>\n      <td>1</td>\n      <td>2</td>\n      <td>2</td>\n      <td>2</td>\n      <td>2</td>\n      <td>...</td>\n      <td>1</td>\n      <td>1</td>\n      <td>2</td>\n      <td>1</td>\n      <td>1</td>\n      <td>1</td>\n      <td>1</td>\n      <td>1</td>\n      <td>1</td>\n      <td>2</td>\n    </tr>\n    <tr>\n      <th>4</th>\n      <td>5</td>\n      <td>1</td>\n      <td>2</td>\n      <td>3.0</td>\n      <td>2</td>\n      <td>1</td>\n      <td>2</td>\n      <td>2</td>\n      <td>2</td>\n      <td>2</td>\n      <td>...</td>\n      <td>1</td>\n      <td>1</td>\n      <td>2</td>\n      <td>1</td>\n      <td>1</td>\n      <td>1</td>\n      <td>1</td>\n      <td>1</td>\n      <td>1</td>\n      <td>2</td>\n    </tr>\n    <tr>\n      <th>...</th>\n      <td>...</td>\n      <td>...</td>\n      <td>...</td>\n      <td>...</td>\n      <td>...</td>\n      <td>...</td>\n      <td>...</td>\n      <td>...</td>\n      <td>...</td>\n      <td>...</td>\n      <td>...</td>\n      <td>...</td>\n      <td>...</td>\n      <td>...</td>\n      <td>...</td>\n      <td>...</td>\n      <td>...</td>\n      <td>...</td>\n      <td>...</td>\n      <td>...</td>\n      <td>...</td>\n    </tr>\n    <tr>\n      <th>99995</th>\n      <td>99996</td>\n      <td>2</td>\n      <td>2</td>\n      <td>3.0</td>\n      <td>3</td>\n      <td>1</td>\n      <td>1</td>\n      <td>2</td>\n      <td>1</td>\n      <td>1</td>\n      <td>...</td>\n      <td>1</td>\n      <td>1</td>\n      <td>2</td>\n      <td>2</td>\n      <td>1</td>\n      <td>1</td>\n      <td>4</td>\n      <td>4</td>\n      <td>1</td>\n      <td>1</td>\n    </tr>\n    <tr>\n      <th>99996</th>\n      <td>99997</td>\n      <td>2</td>\n      <td>2</td>\n      <td>3.0</td>\n      <td>3</td>\n      <td>1</td>\n      <td>1</td>\n      <td>2</td>\n      <td>1</td>\n      <td>1</td>\n      <td>...</td>\n      <td>1</td>\n      <td>1</td>\n      <td>2</td>\n      <td>2</td>\n      <td>1</td>\n      <td>1</td>\n      <td>4</td>\n      <td>4</td>\n      <td>1</td>\n      <td>1</td>\n    </tr>\n    <tr>\n      <th>99997</th>\n      <td>99998</td>\n      <td>2</td>\n      <td>2</td>\n      <td>3.0</td>\n      <td>3</td>\n      <td>1</td>\n      <td>1</td>\n      <td>2</td>\n      <td>1</td>\n      <td>1</td>\n      <td>...</td>\n      <td>1</td>\n      <td>1</td>\n      <td>2</td>\n      <td>2</td>\n      <td>1</td>\n      <td>1</td>\n      <td>4</td>\n      <td>4</td>\n      <td>1</td>\n      <td>1</td>\n    </tr>\n    <tr>\n      <th>99998</th>\n      <td>99999</td>\n      <td>2</td>\n      <td>2</td>\n      <td>3.0</td>\n      <td>3</td>\n      <td>1</td>\n      <td>1</td>\n      <td>2</td>\n      <td>1</td>\n      <td>1</td>\n      <td>...</td>\n      <td>1</td>\n      <td>1</td>\n      <td>2</td>\n      <td>2</td>\n      <td>1</td>\n      <td>1</td>\n      <td>4</td>\n      <td>4</td>\n      <td>1</td>\n      <td>1</td>\n    </tr>\n    <tr>\n      <th>99999</th>\n      <td>100000</td>\n      <td>2</td>\n      <td>2</td>\n      <td>3.0</td>\n      <td>3</td>\n      <td>1</td>\n      <td>1</td>\n      <td>2</td>\n      <td>1</td>\n      <td>1</td>\n      <td>...</td>\n      <td>1</td>\n      <td>1</td>\n      <td>2</td>\n      <td>2</td>\n      <td>1</td>\n      <td>1</td>\n      <td>4</td>\n      <td>4</td>\n      <td>1</td>\n      <td>1</td>\n    </tr>\n  </tbody>\n</table>\n<p>100000 rows × 21 columns</p>\n</div>"
     },
     "metadata": {},
     "execution_count": 13
    }
   ],
   "source": [
    "cols =['Age',\n",
    " 'Gender',\n",
    " 'Sector',\n",
    " 'Working_same_sector',\n",
    " 'Specialization',\n",
    " 'Work_hours',\n",
    " 'Work_years_span',\n",
    " 'Patient_per_day',\n",
    " 'Overtime_work_interest',\n",
    " 'Overtime_work_paid']\n",
    "\n",
    "partitioners_feeling_df = df.drop(columns=cols)\n",
    "partitioners_feeling_df"
   ]
  },
  {
   "cell_type": "code",
   "execution_count": null,
   "metadata": {},
   "outputs": [],
   "source": []
  }
 ]
}